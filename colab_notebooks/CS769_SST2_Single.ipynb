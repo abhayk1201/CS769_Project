{
  "nbformat": 4,
  "nbformat_minor": 0,
  "metadata": {
    "colab": {
      "name": "CS769-SST2-Single",
      "provenance": [],
      "collapsed_sections": [],
      "private_outputs": true
    },
    "kernelspec": {
      "name": "python3",
      "display_name": "Python 3"
    },
    "language_info": {
      "name": "python"
    },
    "accelerator": "GPU"
  },
  "cells": [
    {
      "cell_type": "code",
      "source": [
        "%cd /content/drive/MyDrive/SST-2-sentiment-analysis\n",
        "!ls"
      ],
      "metadata": {
        "id": "TzhDPnZdwldT"
      },
      "execution_count": null,
      "outputs": []
    },
    {
      "cell_type": "code",
      "source": [
        "!pip install transformers"
      ],
      "metadata": {
        "id": "StDAF2eeNvQE"
      },
      "execution_count": null,
      "outputs": []
    },
    {
      "cell_type": "code",
      "source": [
        "!python run_Bert_model.py"
      ],
      "metadata": {
        "id": "qXqz_4bruHpc"
      },
      "execution_count": null,
      "outputs": []
    },
    {
      "cell_type": "code",
      "source": [
        "text[0:5]\n",
        "print(len(text))\n",
        "print(len(lbl))"
      ],
      "metadata": {
        "id": "GDN2iSA2yAmX"
      },
      "execution_count": null,
      "outputs": []
    },
    {
      "cell_type": "code",
      "source": [
        "text_dev = text[0:2321]\n",
        "text_tst = text[2322:4644]\n",
        "text_trn = text[4645:]\n",
        "\n",
        "lbl_dev = lbl[0:2321]\n",
        "lbl_tst = lbl[2322:4644]\n",
        "lbl_trn = lbl[4645:]"
      ],
      "metadata": {
        "id": "clktc1vOxbNz"
      },
      "execution_count": null,
      "outputs": []
    },
    {
      "cell_type": "code",
      "source": [
        "def compose(lst1, lst2):\n",
        "  composed = []\n",
        "  d = {'suicide': 1, 'non-suicide':2}\n",
        "  for i in range(len(lst1)):\n",
        "    new = [lst1[i], d[lst2[i]]]\n",
        "    composed.append(new)\n",
        "  return composed \n",
        "\n",
        "dev = compose(text_dev, lbl_dev)\n",
        "trn = compose(text_trn, lbl_trn)\n",
        "tst = compose(text_tst, lbl_tst)\n",
        "\n",
        "print(trn[4])\n"
      ],
      "metadata": {
        "id": "gnhjQi_czWVr"
      },
      "execution_count": null,
      "outputs": []
    },
    {
      "cell_type": "code",
      "source": [
        "import csv\n",
        "\n",
        "fields = ['text', 'class']\n",
        "with open('dev.tsv', 'w') as csvfile: \n",
        "    csvwriter = csv.writer(csvfile, delimiter='\\t') \n",
        "    csvwriter.writerows(dev)\n",
        "\n",
        "with open('trn.tsv', 'w') as csvfile: \n",
        "    csvwriter = csv.writer(csvfile, delimiter='\\t') \n",
        "    csvwriter.writerows(trn)\n",
        "\n",
        "with open('tst.tsv', 'w') as csvfile: \n",
        "    csvwriter = csv.writer(csvfile, delimiter='\\t') \n",
        "    csvwriter.writerows(tst)\n",
        "\n"
      ],
      "metadata": {
        "id": "2YWs0Nm70my0"
      },
      "execution_count": null,
      "outputs": []
    },
    {
      "cell_type": "code",
      "source": [
        "%cd /content/drive/MyDrive/CS769_Project/\n",
        "!ls"
      ],
      "metadata": {
        "id": "nqL8EKzpTGXu"
      },
      "execution_count": null,
      "outputs": []
    },
    {
      "cell_type": "code",
      "source": [
        "!python3 goemotions_classifier.py --taxonomy kagglesuicide"
      ],
      "metadata": {
        "id": "-fHgVzgv3maU"
      },
      "execution_count": null,
      "outputs": []
    },
    {
      "cell_type": "code",
      "source": [
        ""
      ],
      "metadata": {
        "id": "r6EgY013LMTp"
      },
      "execution_count": null,
      "outputs": []
    },
    {
      "cell_type": "code",
      "source": [
        "!python3 goemotions_classifier.py --taxonomy ekman"
      ],
      "metadata": {
        "id": "-m7YywEECr1z"
      },
      "execution_count": null,
      "outputs": []
    }
  ]
}